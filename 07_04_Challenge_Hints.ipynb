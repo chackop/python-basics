{
 "cells": [
  {
   "cell_type": "markdown",
   "id": "dda9c8c6",
   "metadata": {},
   "source": [
    "## Extending the Messenger\n",
    "\n",
    "Create a class \"SaveMessages\" that extends the Messenger class that does the following things:\n",
    "\n",
    "- Add any messages it receives to a list, along with the time the message was received\n",
    "- Use the provided \"getCurrentTime\" function so that the received message time is a string\n",
    "- Contains a method called \"printMessages\" that prints all collected messages when it's called.\n",
    "\n",
    "You might also consider clearing the message list when \"printMessages\" is called. "
   ]
  },
  {
   "cell_type": "markdown",
   "id": "f4a633c4",
   "metadata": {},
   "source": [
    "**Hint 1:** Make sure to override the \"receive\" method in your SaveMessages class, in addition to adding the \"printMessages\" method. You'll want something like this:"
   ]
  },
  {
   "cell_type": "code",
   "execution_count": 1,
   "id": "41574cef",
   "metadata": {},
   "outputs": [],
   "source": [
    "class SaveMessages:\n",
    "    def receive(self, message):\n",
    "        # Save the message here!\n",
    "        pass\n",
    "\n",
    "    def printMessages(self):\n",
    "        # print your messages here!\n",
    "        pass"
   ]
  },
  {
   "cell_type": "markdown",
   "id": "0a4e8a12",
   "metadata": {},
   "source": [
    "**Hint 2:** Consider using an array of dictionaries to hold the message data"
   ]
  },
  {
   "cell_type": "code",
   "execution_count": 2,
   "id": "bfb3981c",
   "metadata": {},
   "outputs": [
    {
     "ename": "NameError",
     "evalue": "name 'getCurrentTime' is not defined",
     "output_type": "error",
     "traceback": [
      "\u001b[0;31m---------------------------------------------------------------------------\u001b[0m",
      "\u001b[0;31mNameError\u001b[0m                                 Traceback (most recent call last)",
      "Cell \u001b[0;32mIn[2], line 4\u001b[0m\n\u001b[1;32m      1\u001b[0m message \u001b[38;5;241m=\u001b[39m \u001b[38;5;124m'\u001b[39m\u001b[38;5;124mHello, there! This is the first message\u001b[39m\u001b[38;5;124m'\u001b[39m\n\u001b[1;32m      3\u001b[0m messages \u001b[38;5;241m=\u001b[39m []\n\u001b[0;32m----> 4\u001b[0m messages\u001b[38;5;241m.\u001b[39mappend({\u001b[38;5;124m'\u001b[39m\u001b[38;5;124mmessage\u001b[39m\u001b[38;5;124m'\u001b[39m: message, \u001b[38;5;124m'\u001b[39m\u001b[38;5;124mtime\u001b[39m\u001b[38;5;124m'\u001b[39m: \u001b[43mgetCurrentTime\u001b[49m()})\n\u001b[1;32m      6\u001b[0m \u001b[38;5;28;01mfor\u001b[39;00m m \u001b[38;5;129;01min\u001b[39;00m messages:\n\u001b[1;32m      7\u001b[0m     \u001b[38;5;28mprint\u001b[39m(\u001b[38;5;124mf\u001b[39m\u001b[38;5;124m'\u001b[39m\u001b[38;5;124mMessage: \u001b[39m\u001b[38;5;124m\"\u001b[39m\u001b[38;5;132;01m{\u001b[39;00mm[\u001b[38;5;124m\"\u001b[39m\u001b[38;5;124mmessage\u001b[39m\u001b[38;5;124m\"\u001b[39m]\u001b[38;5;132;01m}\u001b[39;00m\u001b[38;5;124m\"\u001b[39m\u001b[38;5;124m Time: \u001b[39m\u001b[38;5;132;01m{\u001b[39;00mm[\u001b[38;5;124m\"\u001b[39m\u001b[38;5;124mtime\u001b[39m\u001b[38;5;124m\"\u001b[39m]\u001b[38;5;132;01m}\u001b[39;00m\u001b[38;5;124m'\u001b[39m)\n",
      "\u001b[0;31mNameError\u001b[0m: name 'getCurrentTime' is not defined"
     ]
    }
   ],
   "source": [
    "message = 'Hello, there! This is the first message'\n",
    "\n",
    "messages = []\n",
    "messages.append({'message': message, 'time': getCurrentTime()})\n",
    "\n",
    "for m in messages:\n",
    "    print(f'Message: \"{m[\"message\"]}\" Time: {m[\"time\"]}')"
   ]
  },
  {
   "cell_type": "markdown",
   "id": "be0890af",
   "metadata": {},
   "source": [
    "**HINT 3:** Remember, you can add additional attributes to child class by extending the \\_\\_init\\_\\_ method:\n"
   ]
  },
  {
   "cell_type": "code",
   "execution_count": 3,
   "id": "e9e8743a",
   "metadata": {},
   "outputs": [],
   "source": [
    "class SomeClass:\n",
    "    def __init__(self, existingAttribute=[]):\n",
    "        super().__init__(existingAttribute)\n",
    "        self.newChildClassAttribute = []"
   ]
  },
  {
   "cell_type": "code",
   "execution_count": 4,
   "id": "35d4f1f5",
   "metadata": {},
   "outputs": [],
   "source": [
    "from datetime import datetime\n",
    "\n",
    "def getCurrentTime():\n",
    "    return datetime.now().strftime(\"%m-%d-%Y %H:%M:%S\")\n",
    "\n",
    "\n",
    "class Messenger:\n",
    "    def __init__(self, listeners=[]):\n",
    "        self.listeners = listeners\n",
    "    \n",
    "    def send(self, message):\n",
    "        for listener in self.listeners:\n",
    "            listener.receive(message)\n",
    "\n",
    "    def receive(self, message):\n",
    "        # Must be implemented by extending classes\n",
    "        pass\n",
    "\n",
    "\n",
    "class SaveMessages(Messenger):\n",
    "    # Your code here!\n",
    "    pass\n",
    "\n"
   ]
  },
  {
   "cell_type": "code",
   "execution_count": 5,
   "id": "608e3112",
   "metadata": {},
   "outputs": [],
   "source": [
    "# Run this cell after you've written your solution\n",
    "listener = SaveMessages()\n",
    "\n",
    "sender = Messenger([listener])\n",
    "\n",
    "sender.send('Hello, there! This is the first message')\n"
   ]
  },
  {
   "cell_type": "code",
   "execution_count": 6,
   "id": "2de8c179",
   "metadata": {},
   "outputs": [],
   "source": [
    "# Run this cell after you've written your solution\n",
    "sender.send('Oh hi! This is the second message!')"
   ]
  },
  {
   "cell_type": "code",
   "execution_count": 7,
   "id": "5731a38e",
   "metadata": {},
   "outputs": [
    {
     "ename": "AttributeError",
     "evalue": "'SaveMessages' object has no attribute 'printMessages'",
     "output_type": "error",
     "traceback": [
      "\u001b[0;31m---------------------------------------------------------------------------\u001b[0m",
      "\u001b[0;31mAttributeError\u001b[0m                            Traceback (most recent call last)",
      "Cell \u001b[0;32mIn[7], line 4\u001b[0m\n\u001b[1;32m      1\u001b[0m \u001b[38;5;66;03m# Run this cell after you've written your solution\u001b[39;00m\n\u001b[1;32m      2\u001b[0m sender\u001b[38;5;241m.\u001b[39msend(\u001b[38;5;124m'\u001b[39m\u001b[38;5;124mHola! This is the third and final message!\u001b[39m\u001b[38;5;124m'\u001b[39m)\n\u001b[0;32m----> 4\u001b[0m \u001b[43mlistener\u001b[49m\u001b[38;5;241;43m.\u001b[39;49m\u001b[43mprintMessages\u001b[49m()\n",
      "\u001b[0;31mAttributeError\u001b[0m: 'SaveMessages' object has no attribute 'printMessages'"
     ]
    }
   ],
   "source": [
    "# Run this cell after you've written your solution\n",
    "sender.send('Hola! This is the third and final message!')\n",
    "\n",
    "listener.printMessages()"
   ]
  },
  {
   "cell_type": "code",
   "execution_count": null,
   "id": "405e783b-583a-43b8-aaab-35942900dcc8",
   "metadata": {},
   "outputs": [],
   "source": []
  },
  {
   "cell_type": "code",
   "execution_count": null,
   "id": "cb46aa25-1ea9-491d-9a57-8b34d71e8f5d",
   "metadata": {},
   "outputs": [],
   "source": []
  }
 ],
 "metadata": {
  "kernelspec": {
   "display_name": "Python 3 (ipykernel)",
   "language": "python",
   "name": "python3"
  },
  "language_info": {
   "codemirror_mode": {
    "name": "ipython",
    "version": 3
   },
   "file_extension": ".py",
   "mimetype": "text/x-python",
   "name": "python",
   "nbconvert_exporter": "python",
   "pygments_lexer": "ipython3",
   "version": "3.11.5"
  },
  "vscode": {
   "interpreter": {
    "hash": "949777d72b0d2535278d3dc13498b2535136f6dfe0678499012e853ee9abcab1"
   }
  }
 },
 "nbformat": 4,
 "nbformat_minor": 5
}
