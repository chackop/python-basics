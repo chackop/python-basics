{
 "cells": [
  {
   "cell_type": "code",
   "execution_count": 1,
   "id": "48a15793",
   "metadata": {
    "scrolled": true
   },
   "outputs": [],
   "source": [
    "import threading\n",
    "import time"
   ]
  },
  {
   "cell_type": "markdown",
   "id": "5be113b0",
   "metadata": {},
   "source": [
    "## Threads"
   ]
  },
  {
   "cell_type": "code",
   "execution_count": 2,
   "id": "230c796a",
   "metadata": {
    "scrolled": true
   },
   "outputs": [
    {
     "data": {
      "text/plain": [
       "[0, 1, 4, 9, 16]"
      ]
     },
     "execution_count": 2,
     "metadata": {},
     "output_type": "execute_result"
    }
   ],
   "source": [
    "def longSquare(num):\n",
    "    time.sleep(1)\n",
    "    return num**2\n",
    "\n",
    "[longSquare(n) for n in range(0, 5)]\n"
   ]
  },
  {
   "cell_type": "code",
   "execution_count": 3,
   "id": "f105891d",
   "metadata": {},
   "outputs": [],
   "source": [
    "t1 = threading.Thread(target=longSquare, args=(1,))\n",
    "t2 = threading.Thread(target=longSquare, args=(2,))\n",
    "\n",
    "t1.start()\n",
    "t2.start()\n",
    "\n",
    "t1.join()\n",
    "t2.join()\n"
   ]
  },
  {
   "cell_type": "code",
   "execution_count": 4,
   "id": "5be33021",
   "metadata": {},
   "outputs": [
    {
     "name": "stdout",
     "output_type": "stream",
     "text": [
      "{1: 1, 2: 4}\n"
     ]
    }
   ],
   "source": [
    "\n",
    "\n",
    "def longSquare(num, results):\n",
    "    time.sleep(1)\n",
    "    results[num] = num**2\n",
    "\n",
    "results = {}\n",
    "t1 = threading.Thread(target=longSquare, args=(1,results))\n",
    "t2 = threading.Thread(target=longSquare, args=(2,results))\n",
    "\n",
    "t1.start()\n",
    "t2.start()\n",
    "\n",
    "t1.join()\n",
    "t2.join()\n",
    "\n",
    "print(results)\n"
   ]
  },
  {
   "cell_type": "code",
   "execution_count": 5,
   "id": "6f9a6201",
   "metadata": {},
   "outputs": [
    {
     "name": "stdout",
     "output_type": "stream",
     "text": [
      "{4: 16, 8: 64, 3: 9, 5: 25, 54: 2916, 9: 81, 12: 144, 40: 1600, 45: 2025, 28: 784, 14: 196, 23: 529, 22: 484, 27: 729, 30: 900, 31: 961, 37: 1369, 46: 2116, 60: 3600, 29: 841, 32: 1024, 11: 121, 47: 2209, 10: 100, 34: 1156, 39: 1521, 59: 3481, 13: 169, 33: 1089, 20: 400, 21: 441, 24: 576, 26: 676, 25: 625, 73: 5329, 74: 5476, 0: 0, 49: 2401, 6: 36, 7: 49, 44: 1936, 50: 2500, 52: 2704, 51: 2601, 15: 225, 16: 256, 19: 361, 17: 289, 55: 3025, 56: 3136, 57: 3249, 58: 3364, 80: 6400, 81: 6561, 64: 4096, 82: 6724, 84: 7056, 83: 6889, 85: 7225, 86: 7396, 87: 7569, 63: 3969, 1: 1, 42: 1764, 66: 4356, 70: 4900, 77: 5929, 41: 1681, 2: 4, 36: 1296, 35: 1225, 18: 324, 48: 2304, 38: 1444, 61: 3721, 98: 9604, 65: 4225, 62: 3844, 97: 9409, 75: 5625, 99: 9801, 76: 5776, 43: 1849, 89: 7921, 96: 9216, 88: 7744, 68: 4624, 53: 2809, 78: 6084, 79: 6241, 72: 5184, 67: 4489, 69: 4761, 71: 5041, 90: 8100, 92: 8464, 91: 8281, 93: 8649, 94: 8836, 95: 9025}\n"
     ]
    }
   ],
   "source": [
    "\n",
    "\n",
    "def longSquare(num, results):\n",
    "    time.sleep(1)\n",
    "    results[num] = num**2\n",
    "\n",
    "results = {}\n",
    "threads = [threading.Thread(target=longSquare, args=(n, results)) for n in range(0, 100)]\n",
    "[t.start() for t in threads]\n",
    "[t.join() for t in threads]\n",
    "print(results)\n"
   ]
  },
  {
   "cell_type": "code",
   "execution_count": null,
   "id": "c63a0969",
   "metadata": {},
   "outputs": [],
   "source": []
  }
 ],
 "metadata": {
  "kernelspec": {
   "display_name": "Python 3 (ipykernel)",
   "language": "python",
   "name": "python3"
  },
  "language_info": {
   "codemirror_mode": {
    "name": "ipython",
    "version": 3
   },
   "file_extension": ".py",
   "mimetype": "text/x-python",
   "name": "python",
   "nbconvert_exporter": "python",
   "pygments_lexer": "ipython3",
   "version": "3.11.5"
  }
 },
 "nbformat": 4,
 "nbformat_minor": 5
}
